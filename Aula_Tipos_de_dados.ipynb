{
  "nbformat": 4,
  "nbformat_minor": 0,
  "metadata": {
    "colab": {
      "provenance": [],
      "authorship_tag": "ABX9TyOKole819bRKgBftjJc21G4",
      "include_colab_link": true
    },
    "kernelspec": {
      "name": "python3",
      "display_name": "Python 3"
    },
    "language_info": {
      "name": "python"
    }
  },
  "cells": [
    {
      "cell_type": "markdown",
      "metadata": {
        "id": "view-in-github",
        "colab_type": "text"
      },
      "source": [
        "<a href=\"https://colab.research.google.com/github/Wendell2304/Estudos-programacao/blob/main/Aula_Tipos_de_dados.ipynb\" target=\"_parent\"><img src=\"https://colab.research.google.com/assets/colab-badge.svg\" alt=\"Open In Colab\"/></a>"
      ]
    },
    {
      "cell_type": "code",
      "execution_count": 3,
      "metadata": {
        "colab": {
          "base_uri": "https://localhost:8080/"
        },
        "id": "eHSSfP8eEQja",
        "outputId": "c2906306-39fb-4c86-82db-cce8f17d853f"
      },
      "outputs": [
        {
          "output_type": "stream",
          "name": "stdout",
          "text": [
            "Qual seu nome? Davi\n",
            "Olá Davi\n"
          ]
        }
      ],
      "source": [
        "nome = input('Qual seu nome? ')\n",
        "print('Olá {}'.format(nome))"
      ]
    },
    {
      "cell_type": "code",
      "source": [
        "a = 100\n",
        "b = 25.6\n",
        "c = a > b\n",
        "d = 'Chimpanze'\n",
        "print(a,b,c,d)"
      ],
      "metadata": {
        "colab": {
          "base_uri": "https://localhost:8080/"
        },
        "id": "fMytycsqFIdF",
        "outputId": "a99d671d-82b5-4e99-adad-1e762a317c71"
      },
      "execution_count": 10,
      "outputs": [
        {
          "output_type": "stream",
          "name": "stdout",
          "text": [
            "100 25.6 True Chimpanze\n"
          ]
        }
      ]
    },
    {
      "cell_type": "code",
      "source": [],
      "metadata": {
        "id": "bIynC58vF7qe"
      },
      "execution_count": null,
      "outputs": []
    },
    {
      "cell_type": "code",
      "source": [
        "Nu = int(input('Primeiro número: '))\n",
        "Nu2 = int(input('Segundo número: '))\n",
        "soma = (Nu + Nu2)\n",
        "media = (soma/2)\n",
        "print('A media deu {}'.format(media))\n"
      ],
      "metadata": {
        "colab": {
          "base_uri": "https://localhost:8080/"
        },
        "id": "kXTMrNW1GGgM",
        "outputId": "bd097954-973e-49e8-ce3c-993f2b178664"
      },
      "execution_count": 18,
      "outputs": [
        {
          "output_type": "stream",
          "name": "stdout",
          "text": [
            "Primeiro número: 4\n",
            "Segundo número: 4\n",
            "A media deu 4.0\n"
          ]
        }
      ]
    },
    {
      "cell_type": "code",
      "source": [
        "from random import choice\n",
        "al1 = 'João'\n",
        "al2 = 'Maria' \n",
        "al3 = 'Juliana'\n",
        "al4 = 'Alisson'\n",
        "lista = [al1,al2,al3,al4]\n",
        "rand = choice(lista)\n",
        "print('Orndem de apresentação {}'.format(rand))\n",
        "\n"
      ],
      "metadata": {
        "colab": {
          "base_uri": "https://localhost:8080/"
        },
        "id": "ol9KIvMJIf0U",
        "outputId": "d10a91b6-61fc-47cf-f3de-efd2ce1ca9b9"
      },
      "execution_count": 34,
      "outputs": [
        {
          "output_type": "stream",
          "name": "stdout",
          "text": [
            "Orndem de apresentação Juliana\n"
          ]
        }
      ]
    },
    {
      "cell_type": "code",
      "source": [
        "nota = int(input('Digite a nota '))\n",
        "if(nota >= 7.0):\n",
        "  print('Aprovado')\n",
        "  elif(nota <= 4 and nota < 7):\n",
        "    print('Reprovado')\n",
        "\n",
        "\n"
      ],
      "metadata": {
        "colab": {
          "base_uri": "https://localhost:8080/"
        },
        "id": "tyN6ClxVNDV_",
        "outputId": "42c01f92-16f2-4383-ad88-032470ecf08f"
      },
      "execution_count": 54,
      "outputs": [
        {
          "output_type": "stream",
          "name": "stdout",
          "text": [
            "Digite a nota 8\n",
            "Aprovado\n"
          ]
        }
      ]
    },
    {
      "cell_type": "code",
      "source": [
        "n1 = int(input(\"Qual a primeira nota \"))\n",
        "n2 = int(input(\"Qual a segunda nota \"))\n",
        "n3 = int(input('Qual a terceira nota '))\n",
        "media = (n1 + n2 + n3)/3\n",
        "print(media)\n",
        "if(media < 4):\n",
        "  print('Reprovado')\n",
        "elif(media < 7):\n",
        "  print('Recuperação')\n",
        "else:\n",
        "  print('Aprovado')\n"
      ],
      "metadata": {
        "colab": {
          "base_uri": "https://localhost:8080/"
        },
        "id": "3Utul3RHV0yH",
        "outputId": "f456b469-5ba6-4b01-a242-604661f99d9e"
      },
      "execution_count": 63,
      "outputs": [
        {
          "output_type": "stream",
          "name": "stdout",
          "text": [
            "Qual a primeira nota 8\n",
            "Qual a segunda nota 8\n",
            "Qual a terceira nota 8\n",
            "8.0\n",
            "Aprovado\n"
          ]
        }
      ]
    },
    {
      "cell_type": "code",
      "source": [],
      "metadata": {
        "id": "73hDFJUTUXzs"
      },
      "execution_count": null,
      "outputs": []
    }
  ]
}