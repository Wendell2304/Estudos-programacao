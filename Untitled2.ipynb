{
  "nbformat": 4,
  "nbformat_minor": 0,
  "metadata": {
    "colab": {
      "provenance": [],
      "authorship_tag": "ABX9TyOV0WTLKrk2hEeNHqHzexOr",
      "include_colab_link": true
    },
    "kernelspec": {
      "name": "python3",
      "display_name": "Python 3"
    },
    "language_info": {
      "name": "python"
    }
  },
  "cells": [
    {
      "cell_type": "markdown",
      "metadata": {
        "id": "view-in-github",
        "colab_type": "text"
      },
      "source": [
        "<a href=\"https://colab.research.google.com/github/Wendell2304/Estudos-programacao/blob/main/Untitled2.ipynb\" target=\"_parent\"><img src=\"https://colab.research.google.com/assets/colab-badge.svg\" alt=\"Open In Colab\"/></a>"
      ]
    },
    {
      "cell_type": "code",
      "execution_count": 68,
      "metadata": {
        "colab": {
          "base_uri": "https://localhost:8080/"
        },
        "id": "ZlOIoMCQ94Tg",
        "outputId": "5d73e888-7bd0-44ec-b416-3f470b2a4753"
      },
      "outputs": [
        {
          "output_type": "stream",
          "name": "stdout",
          "text": [
            "Tem nãi\n"
          ]
        }
      ],
      "source": [
        "#from random import choice\n",
        "#real = [5,3,6,1,6]\n",
        "#rod = choice(real)\n",
        "#print('Número? {}'.format(rod))\n",
        "#print(len(real))\n",
        "\n",
        "#from random import choice\n",
        "#nm = input ('Qual seu nome?')\n",
        "#nm2 = input ('Qual seu nome?')\n",
        "#nm3 = input ('Qual seu nome?')\n",
        "#nm4 = input ('Qual seu nome?')\n",
        "#lista = [nm,nm2,nm3,nm4]\n",
        "#lista.\n",
        "#print(f'A lista é {choice(lista)}')\n",
        "\n",
        "#lista = ['nome','joao']\n",
        "#print(len(lista))\n",
        "\n",
        "lista = ['nome','joao','piton']\n",
        "if 'jsoao' in lista:\n",
        "  print('Sim')\n",
        "else:\n",
        "  print('não')"
      ]
    },
    {
      "cell_type": "code",
      "source": [
        "lista = ['joao', 'alexander', 'governo']\n",
        "nome = input('Digite um nome ')\n",
        "if nome in lista:\n",
        "  print('tem', nome)\n",
        "else:\n",
        "    print('Não tem', nome)\n"
      ],
      "metadata": {
        "colab": {
          "base_uri": "https://localhost:8080/"
        },
        "id": "d42w8Yk5QZUP",
        "outputId": "e5660aa8-7fd2-4fb4-d940-59dbc8ea6987"
      },
      "execution_count": 74,
      "outputs": [
        {
          "output_type": "stream",
          "name": "stdout",
          "text": [
            "Digite um nome joao\n",
            "tem joao\n"
          ]
        }
      ]
    },
    {
      "cell_type": "code",
      "source": [
        "alunos = ['joao','pessoa','maria']\n",
        "del alunos[0]"
      ],
      "metadata": {
        "id": "Wr25helLVTwb"
      },
      "execution_count": 104,
      "outputs": []
    },
    {
      "cell_type": "code",
      "source": [
        "print(f'{alunos}')"
      ],
      "metadata": {
        "colab": {
          "base_uri": "https://localhost:8080/"
        },
        "id": "ZXipPWqZS85e",
        "outputId": "0220b1cc-1b09-4436-c927-3df0142fa456"
      },
      "execution_count": 105,
      "outputs": [
        {
          "output_type": "stream",
          "name": "stdout",
          "text": [
            "['pessoa', 'maria']\n"
          ]
        }
      ]
    },
    {
      "cell_type": "code",
      "source": [
        "nome = input('Qual seu nome:')\n",
        "nome"
      ],
      "metadata": {
        "colab": {
          "base_uri": "https://localhost:8080/",
          "height": 53
        },
        "id": "q_XqwYQYRm-i",
        "outputId": "a9a328b4-35ba-4e5f-9e8b-ba4ad9b980ce"
      },
      "execution_count": 89,
      "outputs": [
        {
          "name": "stdout",
          "output_type": "stream",
          "text": [
            "Qual seu nome:yy\n"
          ]
        },
        {
          "output_type": "execute_result",
          "data": {
            "text/plain": [
              "'yy'"
            ],
            "application/vnd.google.colaboratory.intrinsic+json": {
              "type": "string"
            }
          },
          "metadata": {},
          "execution_count": 89
        }
      ]
    },
    {
      "cell_type": "code",
      "source": [
        "numeros = []\n",
        "for num in range(20):\n",
        "  numeros.append(num)\n",
        "numeros\n"
      ],
      "metadata": {
        "colab": {
          "base_uri": "https://localhost:8080/"
        },
        "id": "D6zA005BTQDc",
        "outputId": "0fd32561-9b37-4414-9e66-73637ec920fa"
      },
      "execution_count": 108,
      "outputs": [
        {
          "output_type": "execute_result",
          "data": {
            "text/plain": [
              "[0, 1, 2, 3, 4, 5, 6, 7, 8, 9, 10, 11, 12, 13, 14, 15, 16, 17, 18, 19]"
            ]
          },
          "metadata": {},
          "execution_count": 108
        }
      ]
    },
    {
      "cell_type": "code",
      "source": [
        "dobro = []\n",
        "for num in numeros:\n",
        "  dobro.append(numeros[num]*2)\n",
        "dobro"
      ],
      "metadata": {
        "colab": {
          "base_uri": "https://localhost:8080/"
        },
        "id": "d8915T67XlSu",
        "outputId": "e6a90155-fc39-4608-ad5e-c170b20fb3b1"
      },
      "execution_count": 111,
      "outputs": [
        {
          "output_type": "execute_result",
          "data": {
            "text/plain": [
              "[0, 2, 4, 6, 8, 10, 12, 14, 16, 18, 20, 22, 24, 26, 28, 30, 32, 34, 36, 38]"
            ]
          },
          "metadata": {},
          "execution_count": 111
        }
      ]
    },
    {
      "cell_type": "code",
      "source": [
        "a = 8\n",
        "if a%2 == 0:\n",
        "  print(\"é par\")\n",
        "else:\n",
        "  print('É impar')\n"
      ],
      "metadata": {
        "colab": {
          "base_uri": "https://localhost:8080/"
        },
        "id": "zYVDwrdvXH04",
        "outputId": "19bcc1bf-0122-47ae-a48a-9e62d21a3fb8"
      },
      "execution_count": 106,
      "outputs": [
        {
          "output_type": "stream",
          "name": "stdout",
          "text": [
            "é par\n"
          ]
        }
      ]
    },
    {
      "cell_type": "code",
      "source": [
        "for num in numeros:\n",
        "  if numeros[num]%2 == 0:\n",
        "    print(numeros[num])"
      ],
      "metadata": {
        "colab": {
          "base_uri": "https://localhost:8080/"
        },
        "id": "ADpmq_B_YZrn",
        "outputId": "b1e01866-7a7f-4049-b605-f98ac9635e41"
      },
      "execution_count": 114,
      "outputs": [
        {
          "output_type": "stream",
          "name": "stdout",
          "text": [
            "0\n",
            "2\n",
            "4\n",
            "6\n",
            "8\n",
            "10\n",
            "12\n",
            "14\n",
            "16\n",
            "18\n"
          ]
        }
      ]
    }
  ]
}